{
 "cells": [
  {
   "cell_type": "markdown",
   "id": "512347ba-6085-4cef-a268-653be19690fc",
   "metadata": {},
   "source": [
    "# Çoklu Doğrusal Regrsyon"
   ]
  },
  {
   "cell_type": "markdown",
   "id": "4bbf2a4e-93fd-40c8-8124-54774d244477",
   "metadata": {},
   "source": [
    "### Bir üretici, bir araba üretiyor ve arabanın yakıt verimliliğini artırmak için farklı motor özelliklerini test ediyor. Üretici, araba motorunun çeşitli bileşenleri için farklı değerler kullanarak bir test planı oluşturur ve bu değerleri kullanarak arabanın yakıt verimliliğini ölçer. Bu verileri kullanarak, arabanın yakıt verimliliği ile motor özellikleri arasındaki ilişkiyi belirlemek için çoklu doğrusal regresyon modeli oluşturmak istiyoruz."
   ]
  },
  {
   "cell_type": "code",
   "execution_count": 57,
   "id": "ddbcc807-0956-4be5-9efb-8313ba689d99",
   "metadata": {},
   "outputs": [],
   "source": [
    "import numpy as np\n",
    "import pandas as pd\n",
    "import seaborn as sns\n",
    "from sklearn.linear_model import LinearRegression\n",
    "from sklearn.model_selection import train_test_split, GridSearchCV, cross_val_score\n",
    "from sklearn.metrics import mean_squared_error, r2_score, mean_absolute_error"
   ]
  },
  {
   "cell_type": "code",
   "execution_count": 45,
   "id": "5fe41837-7715-478e-b193-819bc583a37f",
   "metadata": {},
   "outputs": [
    {
     "data": {
      "text/html": [
       "<div>\n",
       "<style scoped>\n",
       "    .dataframe tbody tr th:only-of-type {\n",
       "        vertical-align: middle;\n",
       "    }\n",
       "\n",
       "    .dataframe tbody tr th {\n",
       "        vertical-align: top;\n",
       "    }\n",
       "\n",
       "    .dataframe thead th {\n",
       "        text-align: right;\n",
       "    }\n",
       "</style>\n",
       "<table border=\"1\" class=\"dataframe\">\n",
       "  <thead>\n",
       "    <tr style=\"text-align: right;\">\n",
       "      <th></th>\n",
       "      <th>bilesen1</th>\n",
       "      <th>bilesen2</th>\n",
       "      <th>bilesen3</th>\n",
       "      <th>bilesen4</th>\n",
       "      <th>Yakıt Verimliliği</th>\n",
       "    </tr>\n",
       "  </thead>\n",
       "  <tbody>\n",
       "    <tr>\n",
       "      <th>0</th>\n",
       "      <td>2</td>\n",
       "      <td>3</td>\n",
       "      <td>4</td>\n",
       "      <td>5</td>\n",
       "      <td>28.5</td>\n",
       "    </tr>\n",
       "    <tr>\n",
       "      <th>1</th>\n",
       "      <td>3</td>\n",
       "      <td>4</td>\n",
       "      <td>5</td>\n",
       "      <td>6</td>\n",
       "      <td>32.0</td>\n",
       "    </tr>\n",
       "    <tr>\n",
       "      <th>2</th>\n",
       "      <td>4</td>\n",
       "      <td>5</td>\n",
       "      <td>6</td>\n",
       "      <td>7</td>\n",
       "      <td>36.2</td>\n",
       "    </tr>\n",
       "    <tr>\n",
       "      <th>3</th>\n",
       "      <td>5</td>\n",
       "      <td>6</td>\n",
       "      <td>7</td>\n",
       "      <td>8</td>\n",
       "      <td>41.1</td>\n",
       "    </tr>\n",
       "    <tr>\n",
       "      <th>4</th>\n",
       "      <td>6</td>\n",
       "      <td>7</td>\n",
       "      <td>8</td>\n",
       "      <td>9</td>\n",
       "      <td>45.8</td>\n",
       "    </tr>\n",
       "  </tbody>\n",
       "</table>\n",
       "</div>"
      ],
      "text/plain": [
       "   bilesen1  bilesen2  bilesen3  bilesen4  Yakıt Verimliliği\n",
       "0         2         3         4         5               28.5\n",
       "1         3         4         5         6               32.0\n",
       "2         4         5         6         7               36.2\n",
       "3         5         6         7         8               41.1\n",
       "4         6         7         8         9               45.8"
      ]
     },
     "execution_count": 45,
     "metadata": {},
     "output_type": "execute_result"
    }
   ],
   "source": [
    "# veri setini hazırlayalım.\n",
    "\n",
    "bilesen1 = range(2, 14)\n",
    "bilesen2 = range(3, 15)\n",
    "bilesen3 = range(4, 16)\n",
    "bilesen4 = range(5, 17)\n",
    "yakit_verimliligi = np.array([28.5, 32.0, 36.2, 41.1, 45.8, 50.3, 54.1, 59.0, 62.8, 67.2, 71.1, 75.2])\n",
    "\n",
    "data = pd.DataFrame({\n",
    "    'bilesen1':bilesen1, 'bilesen2':bilesen2, 'bilesen3':bilesen3, 'bilesen4':bilesen4, \n",
    "    'Yakıt Verimliliği':yakit_verimliligi\n",
    "})\n",
    "data.head()"
   ]
  },
  {
   "cell_type": "markdown",
   "id": "6fa711d8-1fb4-4338-935e-7b5d70eb7e5d",
   "metadata": {},
   "source": [
    "# Veri Analiz - Ön İşleme"
   ]
  },
  {
   "cell_type": "code",
   "execution_count": 46,
   "id": "507bd812-e3b7-49c6-9e4d-67214003a156",
   "metadata": {},
   "outputs": [
    {
     "data": {
      "text/html": [
       "<div>\n",
       "<style scoped>\n",
       "    .dataframe tbody tr th:only-of-type {\n",
       "        vertical-align: middle;\n",
       "    }\n",
       "\n",
       "    .dataframe tbody tr th {\n",
       "        vertical-align: top;\n",
       "    }\n",
       "\n",
       "    .dataframe thead th {\n",
       "        text-align: right;\n",
       "    }\n",
       "</style>\n",
       "<table border=\"1\" class=\"dataframe\">\n",
       "  <thead>\n",
       "    <tr style=\"text-align: right;\">\n",
       "      <th></th>\n",
       "      <th>count</th>\n",
       "      <th>mean</th>\n",
       "      <th>std</th>\n",
       "      <th>min</th>\n",
       "      <th>25%</th>\n",
       "      <th>50%</th>\n",
       "      <th>75%</th>\n",
       "      <th>max</th>\n",
       "    </tr>\n",
       "  </thead>\n",
       "  <tbody>\n",
       "    <tr>\n",
       "      <th>bilesen1</th>\n",
       "      <td>12.0</td>\n",
       "      <td>7.500000</td>\n",
       "      <td>3.605551</td>\n",
       "      <td>2.0</td>\n",
       "      <td>4.750</td>\n",
       "      <td>7.5</td>\n",
       "      <td>10.25</td>\n",
       "      <td>13.0</td>\n",
       "    </tr>\n",
       "    <tr>\n",
       "      <th>bilesen2</th>\n",
       "      <td>12.0</td>\n",
       "      <td>8.500000</td>\n",
       "      <td>3.605551</td>\n",
       "      <td>3.0</td>\n",
       "      <td>5.750</td>\n",
       "      <td>8.5</td>\n",
       "      <td>11.25</td>\n",
       "      <td>14.0</td>\n",
       "    </tr>\n",
       "    <tr>\n",
       "      <th>bilesen3</th>\n",
       "      <td>12.0</td>\n",
       "      <td>9.500000</td>\n",
       "      <td>3.605551</td>\n",
       "      <td>4.0</td>\n",
       "      <td>6.750</td>\n",
       "      <td>9.5</td>\n",
       "      <td>12.25</td>\n",
       "      <td>15.0</td>\n",
       "    </tr>\n",
       "    <tr>\n",
       "      <th>bilesen4</th>\n",
       "      <td>12.0</td>\n",
       "      <td>10.500000</td>\n",
       "      <td>3.605551</td>\n",
       "      <td>5.0</td>\n",
       "      <td>7.750</td>\n",
       "      <td>10.5</td>\n",
       "      <td>13.25</td>\n",
       "      <td>16.0</td>\n",
       "    </tr>\n",
       "    <tr>\n",
       "      <th>Yakıt Verimliliği</th>\n",
       "      <td>12.0</td>\n",
       "      <td>51.941667</td>\n",
       "      <td>15.568410</td>\n",
       "      <td>28.5</td>\n",
       "      <td>39.875</td>\n",
       "      <td>52.2</td>\n",
       "      <td>63.90</td>\n",
       "      <td>75.2</td>\n",
       "    </tr>\n",
       "  </tbody>\n",
       "</table>\n",
       "</div>"
      ],
      "text/plain": [
       "                   count       mean        std   min     25%   50%    75%  \\\n",
       "bilesen1            12.0   7.500000   3.605551   2.0   4.750   7.5  10.25   \n",
       "bilesen2            12.0   8.500000   3.605551   3.0   5.750   8.5  11.25   \n",
       "bilesen3            12.0   9.500000   3.605551   4.0   6.750   9.5  12.25   \n",
       "bilesen4            12.0  10.500000   3.605551   5.0   7.750  10.5  13.25   \n",
       "Yakıt Verimliliği   12.0  51.941667  15.568410  28.5  39.875  52.2  63.90   \n",
       "\n",
       "                    max  \n",
       "bilesen1           13.0  \n",
       "bilesen2           14.0  \n",
       "bilesen3           15.0  \n",
       "bilesen4           16.0  \n",
       "Yakıt Verimliliği  75.2  "
      ]
     },
     "execution_count": 46,
     "metadata": {},
     "output_type": "execute_result"
    }
   ],
   "source": [
    "data.describe().T"
   ]
  },
  {
   "cell_type": "code",
   "execution_count": 47,
   "id": "95cd8185-9ebe-4c35-a7e0-ea2317d95ef1",
   "metadata": {},
   "outputs": [
    {
     "name": "stdout",
     "output_type": "stream",
     "text": [
      "<class 'pandas.core.frame.DataFrame'>\n",
      "RangeIndex: 12 entries, 0 to 11\n",
      "Data columns (total 5 columns):\n",
      " #   Column             Non-Null Count  Dtype  \n",
      "---  ------             --------------  -----  \n",
      " 0   bilesen1           12 non-null     int64  \n",
      " 1   bilesen2           12 non-null     int64  \n",
      " 2   bilesen3           12 non-null     int64  \n",
      " 3   bilesen4           12 non-null     int64  \n",
      " 4   Yakıt Verimliliği  12 non-null     float64\n",
      "dtypes: float64(1), int64(4)\n",
      "memory usage: 608.0 bytes\n"
     ]
    }
   ],
   "source": [
    "data.info()"
   ]
  },
  {
   "cell_type": "code",
   "execution_count": 48,
   "id": "ea2a94c1-f64a-4255-9fd2-ac391deb5730",
   "metadata": {},
   "outputs": [
    {
     "data": {
      "text/plain": [
       "bilesen1             0\n",
       "bilesen2             0\n",
       "bilesen3             0\n",
       "bilesen4             0\n",
       "Yakıt Verimliliği    0\n",
       "dtype: int64"
      ]
     },
     "execution_count": 48,
     "metadata": {},
     "output_type": "execute_result"
    }
   ],
   "source": [
    "# eksik gözlem analizi\n",
    "data.isnull().sum()"
   ]
  },
  {
   "cell_type": "code",
   "execution_count": 50,
   "id": "bf2e85de-6723-4b2d-ab61-13166d8eca06",
   "metadata": {},
   "outputs": [
    {
     "data": {
      "image/png": "[encoded data removed]",
      "text/plain": [
       "<Figure size 432x288 with 1 Axes>"
      ]
     },
     "metadata": {
      "needs_background": "light"
     },
     "output_type": "display_data"
    }
   ],
   "source": [
    "# aykırı gözlem analizi\n",
    "sns.boxplot(data=data);"
   ]
  },
  {
   "cell_type": "code",
   "execution_count": 51,
   "id": "824b0a00-a55d-4d40-bfc3-3cdcf6b5f292",
   "metadata": {},
   "outputs": [
    {
     "data": {
      "text/html": [
       "<div>\n",
       "<style scoped>\n",
       "    .dataframe tbody tr th:only-of-type {\n",
       "        vertical-align: middle;\n",
       "    }\n",
       "\n",
       "    .dataframe tbody tr th {\n",
       "        vertical-align: top;\n",
       "    }\n",
       "\n",
       "    .dataframe thead th {\n",
       "        text-align: right;\n",
       "    }\n",
       "</style>\n",
       "<table border=\"1\" class=\"dataframe\">\n",
       "  <thead>\n",
       "    <tr style=\"text-align: right;\">\n",
       "      <th></th>\n",
       "      <th>bilesen1</th>\n",
       "      <th>bilesen2</th>\n",
       "      <th>bilesen3</th>\n",
       "      <th>bilesen4</th>\n",
       "      <th>Yakıt Verimliliği</th>\n",
       "    </tr>\n",
       "  </thead>\n",
       "  <tbody>\n",
       "    <tr>\n",
       "      <th>bilesen1</th>\n",
       "      <td>1.00000</td>\n",
       "      <td>1.00000</td>\n",
       "      <td>1.00000</td>\n",
       "      <td>1.00000</td>\n",
       "      <td>0.99966</td>\n",
       "    </tr>\n",
       "    <tr>\n",
       "      <th>bilesen2</th>\n",
       "      <td>1.00000</td>\n",
       "      <td>1.00000</td>\n",
       "      <td>1.00000</td>\n",
       "      <td>1.00000</td>\n",
       "      <td>0.99966</td>\n",
       "    </tr>\n",
       "    <tr>\n",
       "      <th>bilesen3</th>\n",
       "      <td>1.00000</td>\n",
       "      <td>1.00000</td>\n",
       "      <td>1.00000</td>\n",
       "      <td>1.00000</td>\n",
       "      <td>0.99966</td>\n",
       "    </tr>\n",
       "    <tr>\n",
       "      <th>bilesen4</th>\n",
       "      <td>1.00000</td>\n",
       "      <td>1.00000</td>\n",
       "      <td>1.00000</td>\n",
       "      <td>1.00000</td>\n",
       "      <td>0.99966</td>\n",
       "    </tr>\n",
       "    <tr>\n",
       "      <th>Yakıt Verimliliği</th>\n",
       "      <td>0.99966</td>\n",
       "      <td>0.99966</td>\n",
       "      <td>0.99966</td>\n",
       "      <td>0.99966</td>\n",
       "      <td>1.00000</td>\n",
       "    </tr>\n",
       "  </tbody>\n",
       "</table>\n",
       "</div>"
      ],
      "text/plain": [
       "                   bilesen1  bilesen2  bilesen3  bilesen4  Yakıt Verimliliği\n",
       "bilesen1            1.00000   1.00000   1.00000   1.00000            0.99966\n",
       "bilesen2            1.00000   1.00000   1.00000   1.00000            0.99966\n",
       "bilesen3            1.00000   1.00000   1.00000   1.00000            0.99966\n",
       "bilesen4            1.00000   1.00000   1.00000   1.00000            0.99966\n",
       "Yakıt Verimliliği   0.99966   0.99966   0.99966   0.99966            1.00000"
      ]
     },
     "execution_count": 51,
     "metadata": {},
     "output_type": "execute_result"
    }
   ],
   "source": [
    "# korelasyon analizi \n",
    "corr = data.corr()\n",
    "corr"
   ]
  },
  {
   "cell_type": "code",
   "execution_count": 52,
   "id": "75b1e905-b31c-4a3c-b3dd-aa9dc2174ae6",
   "metadata": {},
   "outputs": [
    {
     "data": {
      "image/png": "[encoded data removed]",
      "text/plain": [
       "<Figure size 900x900 with 30 Axes>"
      ]
     },
     "metadata": {
      "needs_background": "light"
     },
     "output_type": "display_data"
    }
   ],
   "source": [
    "sns.pairplot(data=data);"
   ]
  },
  {
   "cell_type": "markdown",
   "id": "030466b5-2b9c-46ed-b390-3e544249c64d",
   "metadata": {},
   "source": [
    "# Model Oluşturma"
   ]
  },
  {
   "cell_type": "code",
   "execution_count": 53,
   "id": "8db26a42-a9b7-4aa2-b74b-c1aba73bc492",
   "metadata": {},
   "outputs": [],
   "source": [
    "# bağımlı ve bağımsız değişkenleri oluşturalım.\n",
    "\n",
    "X = data[['bilesen1', 'bilesen2', 'bilesen3', 'bilesen4']]\n",
    "y = data['Yakıt Verimliliği']"
   ]
  },
  {
   "cell_type": "code",
   "execution_count": 54,
   "id": "1cde19f3-e053-4a49-8f7f-762122426982",
   "metadata": {},
   "outputs": [],
   "source": [
    "# eğitim ve test verilerini ayıralım.\n",
    "X_train, X_test, y_train, y_test = train_test_split(X, y, test_size=0.2, random_state=0)"
   ]
  },
  {
   "cell_type": "code",
   "execution_count": 55,
   "id": "4e36a4d1-2845-49f6-a124-89134c9fcdf5",
   "metadata": {},
   "outputs": [],
   "source": [
    "# model oluşturma ve eğitme\n",
    "model = LinearRegression().fit(X_train, y_train)"
   ]
  },
  {
   "cell_type": "code",
   "execution_count": 59,
   "id": "afb4b4a8-f7fe-4480-8293-87722721e722",
   "metadata": {},
   "outputs": [],
   "source": [
    "# tahmin\n",
    "y_pred_test = model.predict(X_test)\n",
    "y_pred_train = model.predict(X_train)"
   ]
  },
  {
   "cell_type": "code",
   "execution_count": 60,
   "id": "5d5a378d-5ea4-4ab0-aa5a-7b9e874c4186",
   "metadata": {},
   "outputs": [
    {
     "name": "stdout",
     "output_type": "stream",
     "text": [
      "Eğitim Kümesi Performansı: \n",
      "R-kare değeri:  0.9993296570601716\n",
      "MSE değeri:  0.1520576131687238\n",
      "MAE değeri:  0.32304526748971124\n",
      "----------------------------------------------------------\n",
      "Test Kümesi Performansı: \n",
      "R-kare değeri:  0.998734572230035\n",
      "MSE değeri:  0.19381572930954924\n",
      "MAE değeri:  0.35679012345678274\n"
     ]
    }
   ],
   "source": [
    "# model değerlendirme\n",
    "\n",
    "print('Eğitim Kümesi Performansı: ')\n",
    "print('R-kare değeri: ', r2_score(y_train, y_pred_train))\n",
    "print('MSE değeri: ', mean_squared_error(y_train, y_pred_train))\n",
    "print('MAE değeri: ', mean_absolute_error(y_train, y_pred_train))\n",
    "print('----------------------------------------------------------')\n",
    "print('Test Kümesi Performansı: ')\n",
    "print('R-kare değeri: ', r2_score(y_test, y_pred_test))\n",
    "print('MSE değeri: ', mean_squared_error(y_test, y_pred_test))\n",
    "print('MAE değeri: ', mean_absolute_error(y_test, y_pred_test))"
   ]
  },
  {
   "cell_type": "markdown",
   "id": "680f4b85-56d5-46a2-8093-d53936fc600f",
   "metadata": {},
   "source": [
    "#### Kullandığımız veri seti çok basit olduğu için modelimizin performansı neredeyse maksimum düzeyde. Bu yüzden model tuning ve doğrulama işlemleri yapmaya gerek yok."
   ]
  },
  {
   "cell_type": "markdown",
   "id": "275fa7f4-1a08-4d1f-8ed6-92c205e5353d",
   "metadata": {},
   "source": [
    "# Tahmin"
   ]
  },
  {
   "cell_type": "code",
   "execution_count": 61,
   "id": "fe0950c7-2af4-46d2-b12b-4e2216f8c792",
   "metadata": {},
   "outputs": [
    {
     "name": "stdin",
     "output_type": "stream",
     "text": [
      "Bileşen 1 değerini giriniz:  3\n",
      "Bileşen 2 değerini giriniz:  3\n",
      "Bileşen 3 değerini giriniz:  3\n",
      "Bileşen 4 değerini giriniz:  3\n"
     ]
    },
    {
     "name": "stdout",
     "output_type": "stream",
     "text": [
      "Tahmini Yakıt Verimliliği: 25.89537037037038\n"
     ]
    },
    {
     "name": "stderr",
     "output_type": "stream",
     "text": [
      "C:\\Users\\murat\\anaconda3\\lib\\site-packages\\sklearn\\base.py:450: UserWarning: X does not have valid feature names, but LinearRegression was fitted with feature names\n",
      "  warnings.warn(\n"
     ]
    }
   ],
   "source": [
    "bilesen1 = float(input('Bileşen 1 değerini giriniz: '))\n",
    "bilesen2 = float(input('Bileşen 2 değerini giriniz: '))\n",
    "bilesen3 = float(input('Bileşen 3 değerini giriniz: '))\n",
    "bilesen4 = float(input('Bileşen 4 değerini giriniz: '))\n",
    "\n",
    "predict = model.predict([[bilesen1, bilesen2, bilesen3, bilesen4]])\n",
    "\n",
    "print(f'Tahmini Yakıt Verimliliği: {float(predict)}')"
   ]
  }
 ],
 "metadata": {
  "kernelspec": {
   "display_name": "Python 3 (ipykernel)",
   "language": "python",
   "name": "python3"
  },
  "language_info": {
   "codemirror_mode": {
    "name": "ipython",
    "version": 3
   },
   "file_extension": ".py",
   "mimetype": "text/x-python",
   "name": "python",
   "nbconvert_exporter": "python",
   "pygments_lexer": "ipython3",
   "version": "3.9.12"
  }
 },
 "nbformat": 4,
 "nbformat_minor": 5
}
